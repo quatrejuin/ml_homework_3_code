{
 "cells": [
  {
   "cell_type": "markdown",
   "metadata": {},
   "source": [
    "# Homework 3"
   ]
  },
  {
   "cell_type": "code",
   "execution_count": 1,
   "metadata": {
    "ExecuteTime": {
     "end_time": "2018-11-07T04:14:16.571461Z",
     "start_time": "2018-11-07T04:14:16.568224Z"
    }
   },
   "outputs": [],
   "source": [
    "# Author: Jiechen Wu, David Alfonso"
   ]
  },
  {
   "cell_type": "markdown",
   "metadata": {},
   "source": [
    "## 3"
   ]
  },
  {
   "cell_type": "code",
   "execution_count": 2,
   "metadata": {
    "ExecuteTime": {
     "end_time": "2018-11-07T04:14:16.995210Z",
     "start_time": "2018-11-07T04:14:16.589283Z"
    }
   },
   "outputs": [
    {
     "name": "stdout",
     "output_type": "stream",
     "text": [
      "Populating the interactive namespace from numpy and matplotlib\n"
     ]
    }
   ],
   "source": [
    "%pylab inline\n",
    "import numpy as np"
   ]
  },
  {
   "cell_type": "code",
   "execution_count": 3,
   "metadata": {
    "ExecuteTime": {
     "end_time": "2018-11-07T04:14:17.559450Z",
     "start_time": "2018-11-07T04:14:16.999169Z"
    }
   },
   "outputs": [],
   "source": [
    "# cercles data\n",
    "circles_data = np.loadtxt(open('circles.txt','r'))\n",
    "np.random.seed(0)\n",
    "indices = np.random.permutation(len(circles_data[:,-1]))\n",
    "\n",
    "# Separate into train/test as usual\n",
    "circles_train_x = circles_data[indices[:1000],:-1]\n",
    "circles_test_x = circles_data[indices[1000:],:-1]\n",
    "circles_train_y = circles_data[indices[:1000],-1]\n",
    "circles_test_y = circles_data[indices[1000:],-1]\n",
    "# Remap y classes to int 1,2\n",
    "circles_train_y = (circles_train_y+1).astype(int)\n",
    "circles_test_y = (circles_test_y+1).astype(int)\n",
    "\n",
    "\n",
    "# fashion MNIST\n",
    "import utils.mnist_reader as mnist_reader\n",
    "X_train, y_train = mnist_reader.load_mnist('data/fashion', kind='train')\n",
    "X_test, y_test = mnist_reader.load_mnist('data/fashion', kind='t10k')"
   ]
  },
  {
   "cell_type": "code",
   "execution_count": 61,
   "metadata": {
    "ExecuteTime": {
     "end_time": "2018-11-07T04:24:03.395912Z",
     "start_time": "2018-11-07T04:24:03.367558Z"
    }
   },
   "outputs": [],
   "source": [
    "def rect(x):\n",
    "    return np.maximum(np.zeros(len(x)),x)\n",
    "\n",
    "def softmax(x_v):\n",
    "    sum_exp = np.sum(np.exp(x_v))\n",
    "    return np.exp(x_v)/sum_exp\n",
    "\n",
    "class NeuralNetwork:\n",
    "    def __init__(self,x,y,dh,m):\n",
    "        self.x = x\n",
    "        self.y = y\n",
    "        self.d = len(x)\n",
    "        self.dh = dh # number of hiden layer neurons\n",
    "        self.m = m # m classes\n",
    "\n",
    "        # Parameter initialization\n",
    "        sqrtr_nc_W1 = 1/self.d**0.5\n",
    "        self.W1 = np.random.uniform(-sqrtr_nc_W1,sqrtr_nc_W1,(self.dh,self.d))\n",
    "        self.b1 = np.zeros(self.dh)\n",
    "        sqrtr_nc_W2 = 1/self.dh**0.5\n",
    "        self.W2 = np.random.uniform(-sqrtr_nc_W2,sqrtr_nc_W2,(self.m,self.dh))\n",
    "        self.b2 = np.zeros(self.m)\n",
    "        self.wb2theta()\n",
    "        self.gradFinitDiff = np.zeros(len(self.theta))\n",
    "\n",
    "    def bprop(self):\n",
    "        model.theta2wb()\n",
    "        self.grad_oa = self.os - np.eye(self.m)[self.y-1]\n",
    "        self.grad_hs = self.W2.T @ self.grad_oa\n",
    "        self.grad_ha = (self.ha>0).astype(int) * self.grad_hs\n",
    "        self.grad_x = self.W1.T @ self.grad_ha\n",
    "        self.grad_b2 = self.grad_oa\n",
    "        self.grad_W2 = np.outer(self.grad_oa, self.hs)\n",
    "        self.grad_b1 = self.grad_ha\n",
    "        self.grad_W1 = np.outer(self.grad_ha, self.x)\n",
    "        self.serial_grad()\n",
    "\n",
    "    def fprop(self,ischeck = False, check_theta = None):\n",
    "        if ischeck == False:\n",
    "            theta = self.theta\n",
    "            W1,b1,W2,b2 = self.W1,self.b1,self.W2,self.b2\n",
    "        else:\n",
    "            theta = check_theta\n",
    "            W1,b1,W2,b2 = self.unserial_param(check_theta)\n",
    "        \n",
    "        self.ha = W1@self.x+b1\n",
    "        self.hs = rect(self.ha)\n",
    "        self.oa = W2@self.hs+b2\n",
    "        self.os = softmax(self.oa)\n",
    "        self.L = -np.log(self.os[self.y-1])\n",
    "        return self.L\n",
    "        \n",
    "    def serial_param(self,W1,b1,W2,b2):\n",
    "        return np.concatenate([np.ravel(W1),\n",
    "                                     np.ravel(b1),\n",
    "                                     np.ravel(W2),\n",
    "                                     np.ravel(b2)])\n",
    "        \n",
    "    def unserial_param(self,theta):\n",
    "        dh = self.dh\n",
    "        d = self.d\n",
    "        W1 = theta[0:dh*d].reshape((dh,d))\n",
    "        b1 = theta[dh*d:dh*d+dh]\n",
    "        W2 = theta[dh*d+dh:dh*d+dh+m*dh].reshape((m,dh))\n",
    "        b2 = theta[-m:]\n",
    "        return W1,b1,W2,b2\n",
    "    \n",
    "    def wb2theta(self):\n",
    "        self.theta = self.serial_param(self.W1,self.b1,self.W2,self.b2)\n",
    "        \n",
    "    \n",
    "    def theta2wb(self):\n",
    "        self.W1,self.b1,self.W2,self.b2 = self.unserial_param(self.theta)\n",
    "        \n",
    "    def serial_grad(self):\n",
    "        self.gradBprop = np.concatenate([np.ravel(self.grad_W1),\n",
    "                             np.ravel(self.grad_b1),\n",
    "                             np.ravel(self.grad_W2),\n",
    "                             np.ravel(self.grad_b2)])\n",
    "\n",
    "    def cal_finit_difference(self):\n",
    "        epsilon = 10**-5\n",
    "        for ind,t in enumerate(self.theta):\n",
    "            thetaPlus = np.copy(self.theta)\n",
    "            thetaPlus[ind] += epsilon\n",
    "            self.gradFinitDiff[ind] = ((self.fprop(True,thetaPlus)-self.fprop())/epsilon)\n",
    "\n",
    "    def gradient_check(self):\n",
    "        sys_eps = np.nextafter(0, 1)\n",
    "        ratio = (self.gradFinitDiff+sys_eps)/(self.gradBprop+sys_eps)\n",
    "        if np.any(ratio>1.01) or np.any(ratio<0.99):\n",
    "            print(\"Gradient check failed.\",ratio)\n",
    "        else:\n",
    "            print(\"Gradient check succeeded.\")\n",
    "        print(\"Gradient Backprop:\",self.gradBprop)\n",
    "        print(\"Gradient Finit Differenct:\",self.gradFinitDiff)"
   ]
  },
  {
   "cell_type": "markdown",
   "metadata": {},
   "source": [
    "### 3.1"
   ]
  },
  {
   "cell_type": "code",
   "execution_count": 74,
   "metadata": {
    "ExecuteTime": {
     "end_time": "2018-11-07T04:25:03.096149Z",
     "start_time": "2018-11-07T04:25:03.088163Z"
    }
   },
   "outputs": [
    {
     "name": "stdout",
     "output_type": "stream",
     "text": [
      "W1= [[-0.58679104 -0.06685149]\n",
      " [ 0.61188146  0.37217152]]\n",
      "W2= [[-0.26659896  0.5495853 ]\n",
      " [ 0.27898798 -0.05183939]]\n",
      "theta= [-0.58679104 -0.06685149  0.61188146  0.37217152  0.          0.\n",
      " -0.26659896  0.5495853   0.27898798 -0.05183939  0.          0.        ]\n"
     ]
    }
   ],
   "source": [
    "dh = 2\n",
    "m = 2\n",
    "model = NeuralNetwork(circles_train_x[0,:],circles_train_y[0],dh,m)\n",
    "model.fprop()\n",
    "print('W1=',model.W1)\n",
    "print('W2=',model.W2)\n",
    "model.wb2theta()\n",
    "print('theta=',model.theta)\n",
    "model.bprop()"
   ]
  },
  {
   "cell_type": "code",
   "execution_count": 75,
   "metadata": {
    "ExecuteTime": {
     "end_time": "2018-11-07T04:25:03.396434Z",
     "start_time": "2018-11-07T04:25:03.391097Z"
    }
   },
   "outputs": [],
   "source": [
    "model.cal_finit_difference()"
   ]
  },
  {
   "cell_type": "code",
   "execution_count": 76,
   "metadata": {
    "ExecuteTime": {
     "end_time": "2018-11-07T04:25:03.819342Z",
     "start_time": "2018-11-07T04:25:03.813171Z"
    }
   },
   "outputs": [
    {
     "name": "stdout",
     "output_type": "stream",
     "text": [
      "Gradient check succeeded.\n",
      "Gradient Backprop: [ 0.17131098  0.08667191 -0.         -0.         -0.23998526  0.\n",
      "  0.19486884  0.         -0.19486884 -0.          0.43986621 -0.43986621]\n",
      "Gradient Finit Differenct: [ 0.17131116  0.08667196  0.          0.         -0.23998489  0.\n",
      "  0.19486908  0.         -0.1948686   0.          0.43986744 -0.43986497]\n"
     ]
    }
   ],
   "source": [
    "model.gradient_check()"
   ]
  },
  {
   "cell_type": "markdown",
   "metadata": {},
   "source": [
    "### 3.2"
   ]
  },
  {
   "cell_type": "code",
   "execution_count": null,
   "metadata": {},
   "outputs": [],
   "source": []
  },
  {
   "cell_type": "code",
   "execution_count": null,
   "metadata": {},
   "outputs": [],
   "source": []
  }
 ],
 "metadata": {
  "kernelspec": {
   "display_name": "Python 3",
   "language": "python",
   "name": "python3"
  },
  "language_info": {
   "codemirror_mode": {
    "name": "ipython",
    "version": 3
   },
   "file_extension": ".py",
   "mimetype": "text/x-python",
   "name": "python",
   "nbconvert_exporter": "python",
   "pygments_lexer": "ipython3",
   "version": "3.6.5"
  },
  "toc": {
   "base_numbering": 1,
   "nav_menu": {},
   "number_sections": false,
   "sideBar": true,
   "skip_h1_title": false,
   "title_cell": "Table of Contents",
   "title_sidebar": "Contents",
   "toc_cell": false,
   "toc_position": {
    "height": "calc(100% - 180px)",
    "left": "10px",
    "top": "150px",
    "width": "240px"
   },
   "toc_section_display": true,
   "toc_window_display": true
  },
  "varInspector": {
   "cols": {
    "lenName": 16,
    "lenType": 16,
    "lenVar": 40
   },
   "kernels_config": {
    "python": {
     "delete_cmd_postfix": "",
     "delete_cmd_prefix": "del ",
     "library": "var_list.py",
     "varRefreshCmd": "print(var_dic_list())"
    },
    "r": {
     "delete_cmd_postfix": ") ",
     "delete_cmd_prefix": "rm(",
     "library": "var_list.r",
     "varRefreshCmd": "cat(var_dic_list()) "
    }
   },
   "types_to_exclude": [
    "module",
    "function",
    "builtin_function_or_method",
    "instance",
    "_Feature"
   ],
   "window_display": false
  }
 },
 "nbformat": 4,
 "nbformat_minor": 2
}
